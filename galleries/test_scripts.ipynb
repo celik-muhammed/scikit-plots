{
 "cells": [
  {
   "cell_type": "markdown",
   "id": "4477806c-2786-4fbd-9fb7-ff6d0d0c5128",
   "metadata": {},
   "source": [
    "## test_scripts.ipynb\n",
    "\n",
    "`%run`: Python scripts and shows any outputs directly in the notebook."
   ]
  },
  {
   "cell_type": "markdown",
   "id": "7eb0ccf7-df43-4f59-80a1-ce95478ea2a6",
   "metadata": {},
   "source": [
    "### ../docs/source"
   ]
  },
  {
   "cell_type": "code",
   "execution_count": 1,
   "id": "94fce3be-5600-4f3d-bfb4-9820702533b4",
   "metadata": {},
   "outputs": [
    {
     "ename": "ModuleNotFoundError",
     "evalue": "No module named 'scikitplot'",
     "output_type": "error",
     "traceback": [
      "\u001b[0;31m---------------------------------------------------------------------------\u001b[0m",
      "\u001b[0;31mModuleNotFoundError\u001b[0m                       Traceback (most recent call last)",
      "File \u001b[0;32m~/work/docs/source/introduction/quick_start.py:24\u001b[0m\n\u001b[1;32m     21\u001b[0m y_pred \u001b[38;5;241m=\u001b[39m cross_val_predict(clf, X_train, y_train)\n\u001b[1;32m     23\u001b[0m \u001b[38;5;66;03m# Plot the data\u001b[39;00m\n\u001b[0;32m---> 24\u001b[0m \u001b[38;5;28;01mimport\u001b[39;00m \u001b[38;5;21;01mscikitplot\u001b[39;00m \u001b[38;5;28;01mas\u001b[39;00m \u001b[38;5;21;01msp\u001b[39;00m\n\u001b[1;32m     26\u001b[0m sp\u001b[38;5;241m.\u001b[39mget_logger()\u001b[38;5;241m.\u001b[39msetLevel(sp\u001b[38;5;241m.\u001b[39msp_logging\u001b[38;5;241m.\u001b[39mWARNING)\n\u001b[1;32m     27\u001b[0m train_r \u001b[38;5;241m=\u001b[39m sp\u001b[38;5;241m.\u001b[39mmetrics\u001b[38;5;241m.\u001b[39mplot_classifier_eval(\n\u001b[1;32m     28\u001b[0m     y_train, y_pred, labels\u001b[38;5;241m=\u001b[39mnp\u001b[38;5;241m.\u001b[39munique(y), figsize\u001b[38;5;241m=\u001b[39m(\u001b[38;5;241m8\u001b[39m, \u001b[38;5;241m3.2\u001b[39m), title\u001b[38;5;241m=\u001b[39m\u001b[38;5;124m\"\u001b[39m\u001b[38;5;124mConfusion Matrix\u001b[39m\u001b[38;5;124m\"\u001b[39m\n\u001b[1;32m     29\u001b[0m )\n",
      "\u001b[0;31mModuleNotFoundError\u001b[0m: No module named 'scikitplot'"
     ]
    }
   ],
   "source": [
    "# %run: Python scripts and shows any outputs directly in the notebook.\n",
    "%run ../docs/source/introduction/quick_start.py"
   ]
  },
  {
   "cell_type": "code",
   "execution_count": null,
   "id": "78675c18-73e4-4456-afa2-318fc8e10c11",
   "metadata": {},
   "outputs": [],
   "source": [
    "# %run: Python scripts and shows any outputs directly in the notebook.\n",
    "%run ../docs/source/introduction/quick_start_tf.py"
   ]
  },
  {
   "cell_type": "markdown",
   "id": "30544f73-cb77-4d3f-91c7-13985b49d214",
   "metadata": {},
   "source": [
    "### ./examples/calibration"
   ]
  },
  {
   "cell_type": "code",
   "execution_count": null,
   "id": "8f9d3a48-69d6-4f44-91e1-69711f6dce52",
   "metadata": {},
   "outputs": [],
   "source": [
    "# %run: Python scripts and shows any outputs directly in the notebook.\n",
    "%run ./examples/calibration/plot_calibration_script.py"
   ]
  },
  {
   "cell_type": "code",
   "execution_count": null,
   "id": "3f72f61b-c270-46b8-b000-5160b575ac12",
   "metadata": {},
   "outputs": [],
   "source": []
  }
 ],
 "metadata": {
  "kernelspec": {
   "display_name": "base",
   "language": "python",
   "name": "python3"
  },
  "language_info": {
   "codemirror_mode": {
    "name": "ipython",
    "version": 3
   },
   "file_extension": ".py",
   "mimetype": "text/x-python",
   "name": "python",
   "nbconvert_exporter": "python",
   "pygments_lexer": "ipython3",
   "version": "3.11.6"
  }
 },
 "nbformat": 4,
 "nbformat_minor": 5
}
