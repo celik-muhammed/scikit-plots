{
  "cells": [
    {
      "cell_type": "markdown",
      "metadata": {},
      "source": [
        "\n# visualkeras EfficientNetV2 example\n\nAn example showing the :py:func:`~scikitplot.visualkeras` function\nused by a :py:class:`~tensorflow.keras.Model` model.\n"
      ]
    },
    {
      "cell_type": "code",
      "execution_count": null,
      "metadata": {
        "collapsed": false
      },
      "outputs": [],
      "source": [
        "# Authors: The scikit-plots developers\n# SPDX-License-Identifier: BSD-3-Clause\n\n# Force garbage collection\nimport gc\n\ngc.collect()\nimport tensorflow as tf\n\n# Clear any session to reset the state of TensorFlow/Keras\ntf.keras.backend.clear_session()\n\nfrom scikitplot import visualkeras\n\nmodel = tf.keras.applications.EfficientNetV2B0(\n    include_top=True,\n    weights=None,  # \"imagenet\" or 'path/'\n    input_tensor=None,\n    input_shape=None,\n    pooling=None,\n    classes=1000,\n    classifier_activation=\"softmax\",\n    name=\"efficientnetv2-b0\",\n)\nimg_efficientnetv2 = visualkeras.layered_view(\n    model,\n    legend=True,\n    show_dimension=True,\n    to_file=\"../result_images/efficientnetv2-b0.png\",\n)\ntry:\n    import matplotlib.pyplot as plt\n\n    plt.imshow(img_efficientnetv2)\n    plt.axis(\"off\")\n    plt.show()\nexcept:\n    pass"
      ]
    },
    {
      "cell_type": "markdown",
      "metadata": {},
      "source": [
        ".. tags::\n\n   model-type: classification\n   model-workflow: model building\n   plot-type: visualkeras\n   domain: neural network\n   level: beginner\n   purpose: showcase\n\n"
      ]
    },
    {
      "cell_type": "code",
      "execution_count": null,
      "metadata": {
        "collapsed": false
      },
      "outputs": [],
      "source": [
        "# model = tf.keras.applications.EfficientNetV2B1(\n#     include_top=True,\n#     weights=None,  # \"imagenet\" or 'path/'\n#     input_tensor=None,\n#     input_shape=None,\n#     pooling=None,\n#     classes=1000,\n#     classifier_activation=\"softmax\",\n#     name=\"efficientnetv2-b1\",\n# )\n# visualkeras.layered_view(\n#   model,\n#   legend=True,\n#   show_dimension=True,\n#   to_file='../result_images/efficientnetv2-b1.png',\n# )\n\n# model = tf.keras.applications.EfficientNetV2B2(\n#     include_top=True,\n#     weights=None,  # \"imagenet\" or 'path/'\n#     input_tensor=None,\n#     input_shape=None,\n#     pooling=None,\n#     classes=1000,\n#     classifier_activation=\"softmax\",\n#     name=\"efficientnetv2-b2\",\n# )\n# visualkeras.layered_view(\n#   model,\n#   legend=True,\n#   show_dimension=True,\n#   to_file='../result_images/efficientnetv2-b2.png',\n# )\n\n# model = tf.keras.applications.EfficientNetV2B3(\n#     include_top=True,\n#     weights=None,  # \"imagenet\" or 'path/'\n#     input_tensor=None,\n#     input_shape=None,\n#     pooling=None,\n#     classes=1000,\n#     classifier_activation=\"softmax\",\n#     name=\"efficientnetv2-b3\",\n# )\n# visualkeras.layered_view(\n#   model,\n#   legend=True,\n#   show_dimension=True,\n#   to_file='../result_images/efficientnetv2-b3.png',\n# )\n\n# model = tf.keras.applications.EfficientNetV2S(\n#     include_top=True,\n#     weights=None,  # \"imagenet\" or 'path/'\n#     input_tensor=None,\n#     input_shape=None,\n#     pooling=None,\n#     classes=1000,\n#     classifier_activation=\"softmax\",\n#     name=\"efficientnetv2-s\",\n# )\n# visualkeras.layered_view(\n#   model,\n#   legend=True,\n#   show_dimension=True,\n#   to_file='../result_images/efficientnetv2-s.png',\n# )\n\n# model = tf.keras.applications.EfficientNetV2M(\n#     include_top=True,\n#     weights=None,  # \"imagenet\" or 'path/'\n#     input_tensor=None,\n#     input_shape=None,\n#     pooling=None,\n#     classes=1000,\n#     classifier_activation=\"softmax\",\n#     name=\"efficientnetv2-m\",\n# )\n# visualkeras.layered_view(\n#   model,\n#   legend=True,\n#   show_dimension=True,\n#   to_file='../result_images/efficientnetv2-m.png',\n# )\n\n# model = tf.keras.applications.EfficientNetV2L(\n#     include_top=True,\n#     weights=None,  # \"imagenet\" or 'path/'\n#     input_tensor=None,\n#     input_shape=None,\n#     pooling=None,\n#     classes=1000,\n#     classifier_activation=\"softmax\",\n#     name=\"efficientnetv2-l\",\n# )\n# visualkeras.layered_view(\n#   model,\n#   legend=True,\n#   show_dimension=True,\n#   to_file='../result_images/efficientnetv2-l.png',\n# )"
      ]
    }
  ],
  "metadata": {
    "kernelspec": {
      "display_name": "Python 3",
      "language": "python",
      "name": "python3"
    },
    "language_info": {
      "codemirror_mode": {
        "name": "ipython",
        "version": 3
      },
      "file_extension": ".py",
      "mimetype": "text/x-python",
      "name": "python",
      "nbconvert_exporter": "python",
      "pygments_lexer": "ipython3",
      "version": "3.11.6"
    }
  },
  "nbformat": 4,
  "nbformat_minor": 0
}
