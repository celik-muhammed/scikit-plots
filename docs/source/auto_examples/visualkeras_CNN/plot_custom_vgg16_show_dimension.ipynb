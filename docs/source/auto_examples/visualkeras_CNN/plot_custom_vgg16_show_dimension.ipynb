{
  "cells": [
    {
      "cell_type": "markdown",
      "metadata": {},
      "source": [
        "\n# visualkeras custom vgg16 show dimension example\n\nAn example showing the :py:func:`~scikitplot.visualkeras` function\nused by a :py:class:`~tensorflow.keras.Model` model.\n"
      ]
    },
    {
      "cell_type": "code",
      "execution_count": null,
      "metadata": {
        "collapsed": false
      },
      "outputs": [],
      "source": [
        "# Authors: The scikit-plots developers\n# SPDX-License-Identifier: BSD-3-Clause\n\n# Force garbage collection\nimport gc\n\ngc.collect()\nimport tensorflow as tf\n\n# Clear any session to reset the state of TensorFlow/Keras\ntf.keras.backend.clear_session()\n\nfrom scikitplot import visualkeras\n\n# create VGG16\nimage_size = 224\nmodel = tf.keras.models.Sequential()\nmodel.add(tf.keras.layers.InputLayer(shape=(image_size, image_size, 3)))\n\nmodel.add(tf.keras.layers.ZeroPadding2D((1, 1)))\nmodel.add(tf.keras.layers.Conv2D(64, activation=\"relu\", kernel_size=(3, 3)))\nmodel.add(tf.keras.layers.ZeroPadding2D((1, 1)))\nmodel.add(tf.keras.layers.Conv2D(64, activation=\"relu\", kernel_size=(3, 3)))\nmodel.add(visualkeras.SpacingDummyLayer())\n\nmodel.add(tf.keras.layers.MaxPooling2D((2, 2), strides=(2, 2)))\nmodel.add(tf.keras.layers.ZeroPadding2D((1, 1)))\nmodel.add(tf.keras.layers.Conv2D(128, activation=\"relu\", kernel_size=(3, 3)))\nmodel.add(tf.keras.layers.ZeroPadding2D((1, 1)))\nmodel.add(tf.keras.layers.Conv2D(128, activation=\"relu\", kernel_size=(3, 3)))\nmodel.add(visualkeras.SpacingDummyLayer())\n\nmodel.add(tf.keras.layers.MaxPooling2D((2, 2), strides=(2, 2)))\nmodel.add(tf.keras.layers.ZeroPadding2D((1, 1)))\nmodel.add(tf.keras.layers.Conv2D(256, activation=\"relu\", kernel_size=(3, 3)))\nmodel.add(tf.keras.layers.ZeroPadding2D((1, 1)))\nmodel.add(tf.keras.layers.Conv2D(256, activation=\"relu\", kernel_size=(3, 3)))\nmodel.add(tf.keras.layers.ZeroPadding2D((1, 1)))\nmodel.add(tf.keras.layers.Conv2D(256, activation=\"relu\", kernel_size=(3, 3)))\nmodel.add(visualkeras.SpacingDummyLayer())\n\nmodel.add(tf.keras.layers.MaxPooling2D((2, 2), strides=(2, 2)))\nmodel.add(tf.keras.layers.ZeroPadding2D((1, 1)))\nmodel.add(tf.keras.layers.Conv2D(512, activation=\"relu\", kernel_size=(3, 3)))\nmodel.add(tf.keras.layers.ZeroPadding2D((1, 1)))\nmodel.add(tf.keras.layers.Conv2D(512, activation=\"relu\", kernel_size=(3, 3)))\nmodel.add(tf.keras.layers.ZeroPadding2D((1, 1)))\nmodel.add(tf.keras.layers.Conv2D(512, activation=\"relu\", kernel_size=(3, 3)))\nmodel.add(visualkeras.SpacingDummyLayer())\n\nmodel.add(tf.keras.layers.MaxPooling2D((2, 2), strides=(2, 2)))\nmodel.add(tf.keras.layers.ZeroPadding2D((1, 1)))\nmodel.add(tf.keras.layers.Conv2D(512, activation=\"relu\", kernel_size=(3, 3)))\nmodel.add(tf.keras.layers.ZeroPadding2D((1, 1)))\nmodel.add(tf.keras.layers.Conv2D(512, activation=\"relu\", kernel_size=(3, 3)))\nmodel.add(tf.keras.layers.ZeroPadding2D((1, 1)))\nmodel.add(tf.keras.layers.Conv2D(512, activation=\"relu\", kernel_size=(3, 3)))\nmodel.add(tf.keras.layers.MaxPooling2D())\nmodel.add(visualkeras.SpacingDummyLayer())\n\nmodel.add(tf.keras.layers.Flatten())\n\nmodel.add(tf.keras.layers.Dense(4096, activation=\"relu\"))\nmodel.add(tf.keras.layers.Dropout(0.5))\nmodel.add(tf.keras.layers.Dense(4096, activation=\"relu\"))\nmodel.add(tf.keras.layers.Dropout(0.5))\nmodel.add(tf.keras.layers.Dense(1000, activation=\"softmax\"))\n\n# Now visualize the model!\n\nfrom collections import defaultdict\n\ncolor_map = defaultdict(dict)\ncolor_map[tf.keras.layers.Conv2D][\"fill\"] = \"orange\"\ncolor_map[tf.keras.layers.ZeroPadding2D][\"fill\"] = \"gray\"\ncolor_map[tf.keras.layers.Dropout][\"fill\"] = \"pink\"\ncolor_map[tf.keras.layers.MaxPooling2D][\"fill\"] = \"red\"\ncolor_map[tf.keras.layers.Dense][\"fill\"] = \"green\"\ncolor_map[tf.keras.layers.Flatten][\"fill\"] = \"teal\"\n\nfrom PIL import ImageFont\n\n\ndef get_font():\n    import platform\n\n    system_platform = platform.system().lower()\n    # Detect platform and select font accordingly\n    try:\n        if system_platform == \"windows\":\n            return ImageFont.truetype(\"arial.ttf\", 32)\n        if system_platform == \"darwin\":  # macOS\n            return ImageFont.truetype(\n                \"/Library/Fonts/Arial.ttf\", 32\n            )  # or \"/System/Library/Fonts/Helvetica.ttc\"\n        if system_platform == \"linux\":\n            # Try a more common font path\n            return ImageFont.truetype(\n                \"/usr/share/fonts/truetype/dejavu/DejaVuSans-Bold.ttf\", 32\n            )\n        raise ValueError(\"Unsupported platform\")\n    except OSError:\n        # Fallback font if the specified font is not found\n        print(\"Font not found, using default font.\")\n        return ImageFont.load_default()\n\n\n# Example usage\nfont = get_font()\n\nimg_vgg16_show_dimension = visualkeras.layered_view(\n    model,\n    legend=True,\n    show_dimension=True,\n    to_file=\"../result_images/vgg16_show_dimension.png\",\n    type_ignore=[visualkeras.SpacingDummyLayer],\n)\nimg_vgg16_legend_show_dimension = visualkeras.layered_view(\n    model,\n    legend=True,\n    show_dimension=True,\n    to_file=\"../result_images/vgg16_legend_show_dimension.png\",\n    type_ignore=[visualkeras.SpacingDummyLayer],\n    font=font,\n)\nimg_vgg16_spacing_layers_show_dimension = visualkeras.layered_view(\n    model,\n    legend=True,\n    show_dimension=True,\n    to_file=\"../result_images/vgg16_spacing_layers_show_dimension.png\",\n    type_ignore=[],\n    spacing=0,\n)\nimg_vgg16_type_ignore_show_dimension = visualkeras.layered_view(\n    model,\n    legend=True,\n    show_dimension=True,\n    to_file=\"../result_images/vgg16_type_ignore_show_dimension.png\",\n    type_ignore=[\n        tf.keras.layers.ZeroPadding2D,\n        tf.keras.layers.Dropout,\n        tf.keras.layers.Flatten,\n        visualkeras.SpacingDummyLayer,\n    ],\n)\nimg_vgg16_color_map_show_dimension = visualkeras.layered_view(\n    model,\n    legend=True,\n    show_dimension=True,\n    to_file=\"../result_images/vgg16_color_map_show_dimension.png\",\n    type_ignore=[visualkeras.SpacingDummyLayer],\n    color_map=color_map,\n)\nimg_vgg16_flat_show_dimension = visualkeras.layered_view(\n    model,\n    legend=True,\n    show_dimension=True,\n    to_file=\"../result_images/vgg16_flat_show_dimension.png\",\n    type_ignore=[visualkeras.SpacingDummyLayer],\n    draw_volume=False,\n)\nimg_vgg16_scaling_show_dimension = visualkeras.layered_view(\n    model,\n    legend=True,\n    show_dimension=True,\n    to_file=\"../result_images/vgg16_scaling_show_dimension.png\",\n    type_ignore=[visualkeras.SpacingDummyLayer],\n    scale_xy=1,\n    scale_z=1,\n    max_z=1000,\n)\ntry:\n    import matplotlib.pyplot as plt\n\n    plt.imshow(img_vgg16_show_dimension)\n    plt.axis(\"off\")\n    plt.show()\n    plt.imshow(img_vgg16_legend_show_dimension)\n    plt.axis(\"off\")\n    plt.show()\n    plt.imshow(img_vgg16_spacing_layers_show_dimension)\n    plt.axis(\"off\")\n    plt.show()\n    plt.imshow(img_vgg16_type_ignore_show_dimension)\n    plt.axis(\"off\")\n    plt.show()\n    plt.imshow(img_vgg16_color_map_show_dimension)\n    plt.axis(\"off\")\n    plt.show()\n    plt.imshow(img_vgg16_flat_show_dimension)\n    plt.axis(\"off\")\n    plt.show()\n    plt.imshow(img_vgg16_scaling_show_dimension)\n    plt.axis(\"off\")\n    plt.show()\nexcept:\n    pass"
      ]
    },
    {
      "cell_type": "markdown",
      "metadata": {},
      "source": [
        ".. tags::\n\n   model-type: classification\n   model-workflow: model building\n   plot-type: visualkeras\n   domain: neural network\n   level: intermediate\n   purpose: showcase\n\n"
      ]
    }
  ],
  "metadata": {
    "kernelspec": {
      "display_name": "Python 3",
      "language": "python",
      "name": "python3"
    },
    "language_info": {
      "codemirror_mode": {
        "name": "ipython",
        "version": 3
      },
      "file_extension": ".py",
      "mimetype": "text/x-python",
      "name": "python",
      "nbconvert_exporter": "python",
      "pygments_lexer": "ipython3",
      "version": "3.11.6"
    }
  },
  "nbformat": 4,
  "nbformat_minor": 0
}
