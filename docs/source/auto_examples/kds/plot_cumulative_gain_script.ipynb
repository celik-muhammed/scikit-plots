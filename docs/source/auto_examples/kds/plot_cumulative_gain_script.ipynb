{
 "cells": [
  {
   "cell_type": "markdown",
   "metadata": {},
   "source": [
    "\n# plot_cumulative_gain with examples\n\nAn example showing the :py:func:`~scikitplot.kds.plot_cumulative_gain` function used\nby a scikit-learn classifier.\n"
   ]
  },
  {
   "cell_type": "code",
   "execution_count": null,
   "metadata": {
    "collapsed": false
   },
   "outputs": [],
   "source": [
    "# Authors: The scikit-plots developers\n",
    "# SPDX-License-Identifier: BSD-3-Clause\n",
    "\n",
    "from sklearn.datasets import (\n",
    "    load_iris as data_3_classes,\n",
    ")\n",
    "from sklearn.model_selection import train_test_split\n",
    "from sklearn.linear_model import LogisticRegression\n",
    "\n",
    "import numpy as np; np.random.seed(0)  # reproducibility\n",
    "# importing pylab or pyplot\n",
    "import matplotlib.pyplot as plt\n",
    "\n",
    "# Import scikit-plot\n",
    "import scikitplot as sp\n",
    "\n",
    "# Load the data\n",
    "X, y = data_3_classes(return_X_y=True, as_frame=False)\n",
    "X_train, X_val, y_train, y_val = train_test_split(X, y, test_size=0.5, random_state=0)\n",
    "\n",
    "# Create an instance of the LogisticRegression\n",
    "model = LogisticRegression(max_iter=int(1e5), random_state=0).fit(X_train, y_train)\n",
    "\n",
    "# Perform predictions\n",
    "y_val_prob = model.predict_proba(X_val)\n",
    "\n",
    "# Plot!\n",
    "ax = sp.kds.plot_cumulative_gain(\n",
    "    y_val, y_val_prob\n",
    ")\n",
    "\n",
    "# Adjust layout to make sure everything fits\n",
    "plt.tight_layout()\n",
    "\n",
    "# Save the plot with a filename based on the current script's name\n",
    "# sp.api._utils.save_plot()\n",
    "\n",
    "# Display the plot\n",
    "plt.show(block=True)"
   ]
  },
  {
   "cell_type": "markdown",
   "metadata": {},
   "source": [
    ".. tags::\n\n   model-type: classification\n   model-workflow: model evaluation\n   plot-type: line\n   plot-type: cum-gain curve\n   level: beginner\n   purpose: showcase\n"
   ]
  }
 ],
 "metadata": {
  "kernelspec": {
   "display_name": "Python 3",
   "language": "python",
   "name": "python3"
  },
  "language_info": {
   "codemirror_mode": {
    "name": "ipython",
    "version": 3
   },
   "file_extension": ".py",
   "mimetype": "text/x-python",
   "name": "python",
   "nbconvert_exporter": "python",
   "pygments_lexer": "ipython3",
   "version": "3.11.6"
  }
 },
 "nbformat": 4,
 "nbformat_minor": 0
}
