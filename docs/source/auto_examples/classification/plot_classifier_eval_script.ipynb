{
  "cells": [
    {
      "cell_type": "markdown",
      "metadata": {},
      "source": [
        "\n# plot_classifier_eval with examples\n\nAn example showing the :py:func:`~scikitplot.api.metrics.plot_classifier_eval` function\nused by a scikit-learn classifier.\n"
      ]
    },
    {
      "cell_type": "code",
      "execution_count": null,
      "metadata": {
        "collapsed": false
      },
      "outputs": [],
      "source": [
        "# Authors: The scikit-plots developers\n# SPDX-License-Identifier: BSD-3-Clause\n\nfrom sklearn.datasets import (\n  make_classification,\n  load_breast_cancer as data_2_classes,\n  load_iris as data_3_classes,\n  load_digits as data_10_classes,\n)\nfrom sklearn.model_selection import train_test_split\nfrom sklearn.linear_model import LogisticRegression\nfrom sklearn.naive_bayes import GaussianNB\nfrom sklearn.svm import LinearSVC\nfrom sklearn.ensemble import RandomForestClassifier\nfrom sklearn.model_selection import cross_val_predict\n\nimport numpy as np; np.random.seed(0)  # reproducibility\n# importing pylab or pyplot\n# import matplotlib as mpl\nimport matplotlib.pyplot as plt\n\n# Import scikit-plot\nimport scikitplot as sp\n\n# Load the data\nX, y = data_3_classes(return_X_y=True, as_frame=True)\nX_train, X_val, y_train, y_val = train_test_split(X, y, test_size=0.5, random_state=0)\n\n# Create an instance of the LogisticRegression\nmodel = LogisticRegression(max_iter=int(1e5), random_state=0).fit(X_train, y_train)\n\n# Perform predictions\ny_val_pred = model.predict(X_val)\ny_train_pred = model.predict(X_train)\n\nfig1 = sp.metrics.plot_classifier_eval(\n    y_val, y_val_pred, \n    labels=np.unique(y_train),\n    figsize=(8, 2),\n    title='Val',\n);\n# plt.show(block=True)\nfig2 = sp.metrics.plot_classifier_eval(\n    y_train, y_train_pred, \n    labels=np.unique(y_train),\n    figsize=(8, 2),\n    title='Train',\n);\n\n# Save the combined figures as an simple image file\nfigs = sp.api._utils.save_figure(\n    (fig1, fig2),\n    to_save=False\n);\n\n# Adjust layout to make sure everything fits\nplt.tight_layout()\n\n# Save the plot with a filename based on the current script's name\n# sp.api._utils.save_plot()\n\n# Display the plot\nplt.show(block=True)"
      ]
    },
    {
      "cell_type": "markdown",
      "metadata": {},
      "source": [
        ".. tags::\n\n   model-type: classification\n   model-workflow: model evaluation\n   plot-type: matrix\n   plot-type: specialty\n   level: beginner\n   purpose: showcase\n"
      ]
    }
  ],
  "metadata": {
    "kernelspec": {
      "display_name": "Python 3",
      "language": "python",
      "name": "python3"
    },
    "language_info": {
      "codemirror_mode": {
        "name": "ipython",
        "version": 3
      },
      "file_extension": ".py",
      "mimetype": "text/x-python",
      "name": "python",
      "nbconvert_exporter": "python",
      "pygments_lexer": "ipython3",
      "version": "3.11.6"
    }
  },
  "nbformat": 4,
  "nbformat_minor": 0
}
