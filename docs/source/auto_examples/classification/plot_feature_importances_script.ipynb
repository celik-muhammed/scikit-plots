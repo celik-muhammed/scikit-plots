{
 "cells": [
  {
   "cell_type": "markdown",
   "metadata": {},
   "source": [
    "\n# plot_feature_importances with examples\n\nAn example showing the :py:func:`~scikitplot.api.estimators.plot_feature_importances` function\nused by a scikit-learn classifier.\n"
   ]
  },
  {
   "cell_type": "code",
   "execution_count": null,
   "metadata": {
    "collapsed": false
   },
   "outputs": [],
   "source": [
    "# Authors: The scikit-plots developers\n",
    "# SPDX-License-Identifier: BSD-3-Clause\n",
    "\n",
    "from sklearn.datasets import (\n",
    "  load_iris as data_3_classes,\n",
    ")\n",
    "from sklearn.model_selection import train_test_split\n",
    "from sklearn.ensemble import RandomForestClassifier\n",
    "\n",
    "import numpy as np; np.random.seed(0)  # reproducibility\n",
    "# importing pylab or pyplot\n",
    "import matplotlib.pyplot as plt\n",
    "\n",
    "# Import scikit-plot\n",
    "import scikitplot as sp\n",
    "\n",
    "# Load the data\n",
    "X, y = data_3_classes(return_X_y=True, as_frame=False)\n",
    "X_train, X_val, y_train, y_val = train_test_split(X, y, test_size=0.5, random_state=0)\n",
    "\n",
    "# Create an instance of the LogisticRegression\n",
    "model = RandomForestClassifier(random_state=0).fit(X_train, y_train)\n",
    "\n",
    "# Plot!\n",
    "ax, features = sp.estimators.plot_feature_importances(\n",
    "  model,\n",
    "  feature_names=['petal length', 'petal width', 'sepal length', 'sepal width'],\n",
    ")\n",
    "\n",
    "# Adjust layout to make sure everything fits\n",
    "plt.tight_layout()\n",
    "\n",
    "# Save the plot with a filename based on the current script's name\n",
    "# sp.api._utils.save_plot()\n",
    "\n",
    "# Display the plot\n",
    "plt.show(block=True)"
   ]
  },
  {
   "cell_type": "markdown",
   "metadata": {},
   "source": [
    ".. admonition:: References\n\n   The use of the following functions, methods, classes and modules is shown\n   in this example:\n\n   - https://scikit-learn.org/stable/auto_examples/ensemble/plot_forest_importances.html\n\n.. tags::\n\n   model-type: classification\n   model-workflow: model evaluation\n   plot-type: bar\n   level: beginner\n   purpose: showcase\n"
   ]
  }
 ],
 "metadata": {
  "kernelspec": {
   "display_name": "Python 3",
   "language": "python",
   "name": "python3"
  },
  "language_info": {
   "codemirror_mode": {
    "name": "ipython",
    "version": 3
   },
   "file_extension": ".py",
   "mimetype": "text/x-python",
   "name": "python",
   "nbconvert_exporter": "python",
   "pygments_lexer": "ipython3",
   "version": "3.11.6"
  }
 },
 "nbformat": 4,
 "nbformat_minor": 0
}
