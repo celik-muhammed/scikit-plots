{
  "cells": [
    {
      "cell_type": "markdown",
      "metadata": {},
      "source": [
        "\n# Visualkeras Spam Classification Conv1D Dense Example\n\nAn example showing Spam the :py:func:`~scikitplot.visualkeras` function\nused by a :py:class:`~tensorflow.keras.Model` model.\n"
      ]
    },
    {
      "cell_type": "code",
      "execution_count": null,
      "metadata": {
        "collapsed": false
      },
      "outputs": [],
      "source": [
        "# Authors: The scikit-plots developers\n# SPDX-License-Identifier: BSD-3-Clause\n\n# Force garbage collection\nimport gc; gc.collect()\nimport tensorflow as tf\n# Clear the GPU memory cache\ntf.keras.backend.clear_session()\n\nmodel = tf.keras.models.Sequential()\nmodel.add(tf.keras.layers.InputLayer(input_shape=(100,)))\n\n# To convert 2D of input data into a 3D input\n# Reshape to a compatible shape for Conv1D as [batch_size, time_steps, input_dimension]\n# The Conv1D layer expects a 3D input: (batch_size, steps, channels).\n# The Reshape layer now reshapes the input to (n_timesteps,n_features) like (100, 1),\n# which matches the expected input of Conv1D.\nmodel.add(tf.keras.layers.Reshape((100, 1)))  # Shape: (batch_size, 100, 1), input_shape=(100,)\n\n# Add Conv1D and other layers\nmodel.add(tf.keras.layers.Conv1D(32, 1, strides=1, activation=\"relu\"))\nmodel.add(tf.keras.layers.Dropout(0.5))\nmodel.add(tf.keras.layers.MaxPooling1D(pool_size=2))\n\n# Flatten and add Dense layers\nmodel.add(tf.keras.layers.Flatten())\nmodel.add(tf.keras.layers.Dense(64, activation='relu'))\nmodel.add(tf.keras.layers.Dense(32, activation='relu'))\nmodel.add(tf.keras.layers.Dense(1, activation='sigmoid'))\n\n# Compile the model\nmodel.compile(optimizer='rmsprop', loss='binary_crossentropy', metrics=['accuracy'])\n\nfrom scikitplot import visualkeras\n\nimg_spam = visualkeras.layered_view(\n  model,\n  to_file='../result_images/spam_conv.png',\n  min_xy=10, min_z=10, scale_xy=10, scale_z=10,\n  one_dim_orientation='x',\n)\ntry:\n    import matplotlib.pyplot as plt\n    plt.imshow(img_spam)\n    plt.axis('off')\n    plt.show()\nexcept:\n    pass"
      ]
    },
    {
      "cell_type": "markdown",
      "metadata": {},
      "source": [
        ".. tags::\n\n   model-type: classification\n   model-workflow: model building\n   plot-type: visualkeras\n   domain: neural network\n   level: intermediate\n   purpose: showcase\n"
      ]
    }
  ],
  "metadata": {
    "kernelspec": {
      "display_name": "Python 3",
      "language": "python",
      "name": "python3"
    },
    "language_info": {
      "codemirror_mode": {
        "name": "ipython",
        "version": 3
      },
      "file_extension": ".py",
      "mimetype": "text/x-python",
      "name": "python",
      "nbconvert_exporter": "python",
      "pygments_lexer": "ipython3",
      "version": "3.11.6"
    }
  },
  "nbformat": 4,
  "nbformat_minor": 0
}
