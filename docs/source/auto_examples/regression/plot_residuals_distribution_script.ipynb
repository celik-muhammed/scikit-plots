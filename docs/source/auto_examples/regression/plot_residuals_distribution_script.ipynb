{
 "cells": [
  {
   "cell_type": "markdown",
   "metadata": {},
   "source": [
    "\n# plot_residuals_distribution with examples\n\nAn example showing the :py:func:`~scikitplot.api.metrics.plot_residuals_distribution` function\nused by a scikit-learn regressor.\n"
   ]
  },
  {
   "cell_type": "code",
   "execution_count": null,
   "metadata": {
    "collapsed": false
   },
   "outputs": [],
   "source": [
    "# Authors: The scikit-plots developers\n",
    "# SPDX-License-Identifier: BSD-3-Clause\n",
    "\n",
    "from sklearn.datasets import (\n",
    "    load_diabetes as load_data,\n",
    ")\n",
    "from sklearn.model_selection import train_test_split\n",
    "from sklearn.linear_model import LinearRegression\n",
    "\n",
    "import numpy as np; np.random.seed(0)  # reproducibility\n",
    "# importing pylab or pyplot\n",
    "import matplotlib.pyplot as plt\n",
    "\n",
    "# Import scikit-plot\n",
    "import scikitplot as sp\n",
    "\n",
    "# Load the data\n",
    "X, y = load_data(return_X_y=True, as_frame=True)\n",
    "X_train, X_val, y_train, y_val = train_test_split(X, y, test_size=0.5, random_state=0)\n",
    "\n",
    "# Create an instance of the LogisticRegression\n",
    "model = LinearRegression().fit(X_train, y_train)\n",
    "\n",
    "# Perform predictions\n",
    "y_val_pred = model.predict(X_val)\n",
    "\n",
    "# Plot!\n",
    "ax = sp.metrics.plot_residuals_distribution(\n",
    "    y_val, y_val_pred, dist_type='normal'\n",
    ")\n",
    "\n",
    "# Adjust layout to make sure everything fits\n",
    "plt.tight_layout()\n",
    "\n",
    "# Save the plot with a filename based on the current script's name\n",
    "# sp.api._utils.save_plot()\n",
    "\n",
    "# Display the plot\n",
    "plt.show(block=True)"
   ]
  },
  {
   "cell_type": "markdown",
   "metadata": {},
   "source": [
    ".. admonition:: References\n\n   The use of the following functions, methods, classes and modules is shown\n   in this example:\n\n   - https://www.itl.nist.gov/div898/handbook/pri/section2/pri24.htm\n   - https://online.stat.psu.edu/stat462/node/122/\n\n.. tags::\n\n   model-type: regression\n   model-workflow: model evaluation\n   plot-type: histogram\n   plot-type: qqplot\n   domain: statistics\n   level: intermediate\n   purpose: showcase\n"
   ]
  }
 ],
 "metadata": {
  "kernelspec": {
   "display_name": "Python 3",
   "language": "python",
   "name": "python3"
  },
  "language_info": {
   "codemirror_mode": {
    "name": "ipython",
    "version": 3
   },
   "file_extension": ".py",
   "mimetype": "text/x-python",
   "name": "python",
   "nbconvert_exporter": "python",
   "pygments_lexer": "ipython3",
   "version": "3.11.6"
  }
 },
 "nbformat": 4,
 "nbformat_minor": 0
}
