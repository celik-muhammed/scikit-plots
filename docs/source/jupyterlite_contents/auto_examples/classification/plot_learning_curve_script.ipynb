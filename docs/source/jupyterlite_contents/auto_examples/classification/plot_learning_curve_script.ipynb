{
  "cells": [
    {
      "cell_type": "markdown",
      "metadata": {},
      "source": [
        "<div class='alert alert-warning'>\n\n# JupyterLite warning\n\nRunning the scikit-plots examples in JupyterLite is experimental and you may encounter some unexpected behavior.\n\nThe main difference is that imports will take a lot longer than usual, for example the first `import scikitplot`can take roughly 10-20s.\n\nIf you notice problems, feel free to open an [issue](https://github.com/scikit-plots/scikit-plots/issues/new/choose) about it.\n</div>"
      ]
    },
    {
      "cell_type": "code",
      "execution_count": null,
      "metadata": {
        "collapsed": false
      },
      "outputs": [],
      "source": [
        "# JupyterLite-specific code\nimport matplotlib\nimport pandas"
      ]
    },
    {
      "cell_type": "markdown",
      "metadata": {},
      "source": [
        "\n# plot_learning_curve with examples\n\nAn example showing the :py:func:`~scikitplot.api.estimators.plot_learning_curve` function\nused by a scikit-learn classifier.\n"
      ]
    },
    {
      "cell_type": "code",
      "execution_count": null,
      "metadata": {
        "collapsed": false
      },
      "outputs": [],
      "source": [
        "# Authors: The scikit-plots developers\n# SPDX-License-Identifier: BSD-3-Clause\n\nfrom sklearn.datasets import (\n    make_classification,\n    load_breast_cancer as data_2_classes,\n    load_iris as data_3_classes,\n    load_digits as data_10_classes,\n)\nfrom sklearn.model_selection import train_test_split\nfrom sklearn.linear_model import LogisticRegression\nfrom sklearn.naive_bayes import GaussianNB\nfrom sklearn.svm import LinearSVC\nfrom sklearn.ensemble import RandomForestClassifier\nfrom sklearn.model_selection import cross_val_predict\n\nimport numpy as np; np.random.seed(0)  # reproducibility\n# importing pylab or pyplot\nimport matplotlib.pyplot as plt\n\n# Import scikit-plot\nimport scikitplot as sp\n\n# Load the data\nX, y = data_10_classes(return_X_y=True, as_frame=False)\n\n# Create an instance of the LogisticRegression\nmodel = LogisticRegression(max_iter=int(1e5), random_state=0)\n\n# Plot!\nax = sp.estimators.plot_learning_curve(\n    model, X, y\n);\n\n# Adjust layout to make sure everything fits\nplt.tight_layout()\n\n# Save the plot with a filename based on the current script's name\n# sp.api._utils.save_plot()\n\n# Display the plot\nplt.show(block=True)"
      ]
    },
    {
      "cell_type": "markdown",
      "metadata": {},
      "source": [
        ".. tags::\n\n   model-type: classification\n   model-workflow: model evaluation\n   plot-type: line\n   plot-type: learning curve\n   level: beginner\n   purpose: showcase\n"
      ]
    }
  ],
  "metadata": {
    "kernelspec": {
      "display_name": "Python 3",
      "language": "python",
      "name": "python3"
    },
    "language_info": {
      "codemirror_mode": {
        "name": "ipython",
        "version": 3
      },
      "file_extension": ".py",
      "mimetype": "text/x-python",
      "name": "python",
      "nbconvert_exporter": "python",
      "pygments_lexer": "ipython3",
      "version": "3.11.6"
    }
  },
  "nbformat": 4,
  "nbformat_minor": 0
}
