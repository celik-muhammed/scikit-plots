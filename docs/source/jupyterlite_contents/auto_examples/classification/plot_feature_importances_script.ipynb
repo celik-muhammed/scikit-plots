{
  "cells": [
    {
      "cell_type": "markdown",
      "metadata": {},
      "source": [
        "<div class='alert alert-warning'>\n\n# JupyterLite warning\n\nRunning the scikit-plots examples in JupyterLite is experimental and you may encounter some unexpected behavior.\n\nThe main difference is that imports will take a lot longer than usual, for example the first `import scikitplot`can take roughly 10-20s.\n\nIf you notice problems, feel free to open an [issue](https://github.com/scikit-plots/scikit-plots/issues/new/choose) about it.\n</div>"
      ]
    },
    {
      "cell_type": "code",
      "execution_count": null,
      "metadata": {
        "collapsed": false
      },
      "outputs": [],
      "source": [
        "# JupyterLite-specific code\nimport matplotlib\nimport pandas"
      ]
    },
    {
      "cell_type": "markdown",
      "metadata": {},
      "source": [
        "\n# plot_feature_importances with examples\n\nAn example showing the :py:func:`~scikitplot.api.estimators.plot_feature_importances` function\nused by a scikit-learn classifier.\n"
      ]
    },
    {
      "cell_type": "code",
      "execution_count": null,
      "metadata": {
        "collapsed": false
      },
      "outputs": [],
      "source": [
        "# Authors: The scikit-plots developers\n# SPDX-License-Identifier: BSD-3-Clause\n\nimport numpy as np\nfrom sklearn.datasets import (\n    load_iris as data_3_classes,\n)\nfrom sklearn.ensemble import RandomForestClassifier\nfrom sklearn.model_selection import train_test_split\n\nnp.random.seed(0)  # reproducibility\n# importing pylab or pyplot\nimport matplotlib.pyplot as plt\n\n# Import scikit-plot\nimport scikitplot as sp\n\n# Load the data\nX, y = data_3_classes(return_X_y=True, as_frame=False)\nX_train, X_val, y_train, y_val = train_test_split(X, y, test_size=0.5, random_state=0)\n\n# Create an instance of the LogisticRegression\nmodel = RandomForestClassifier(random_state=0).fit(X_train, y_train)\n\n# Plot!\nax, features = sp.estimators.plot_feature_importances(\n    model,\n    feature_names=[\"petal length\", \"petal width\", \"sepal length\", \"sepal width\"],\n)\n\n# Adjust layout to make sure everything fits\nplt.tight_layout()\n\n# Save the plot with a filename based on the current script's name\n# sp.api._utils.save_plot()\n\n# Display the plot\nplt.show(block=True)"
      ]
    },
    {
      "cell_type": "markdown",
      "metadata": {},
      "source": [
        ".. admonition:: References\n\n   The use of the following functions, methods, classes and modules is shown\n   in this example:\n\n   - https://scikit-learn.org/stable/auto_examples/ensemble/plot_forest_importances.html\n\n.. tags::\n\n   model-type: classification\n   model-workflow: model evaluation\n   plot-type: bar\n   level: beginner\n   purpose: showcase\n\n"
      ]
    }
  ],
  "metadata": {
    "kernelspec": {
      "display_name": "Python 3",
      "language": "python",
      "name": "python3"
    },
    "language_info": {
      "codemirror_mode": {
        "name": "ipython",
        "version": 3
      },
      "file_extension": ".py",
      "mimetype": "text/x-python",
      "name": "python",
      "nbconvert_exporter": "python",
      "pygments_lexer": "ipython3",
      "version": "3.11.6"
    }
  },
  "nbformat": 4,
  "nbformat_minor": 0
}
