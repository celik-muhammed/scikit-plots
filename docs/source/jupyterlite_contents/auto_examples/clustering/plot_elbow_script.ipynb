{
 "cells": [
  {
   "cell_type": "markdown",
   "metadata": {},
   "source": [
    "<div class='alert alert-warning'>\n\n# JupyterLite warning\n\nRunning the scikit-plots examples in JupyterLite is experimental and you may encounter some unexpected behavior.\n\nThe main difference is that imports will take a lot longer than usual, for example the first `import scikitplot`can take roughly 10-20s.\n\nIf you notice problems, feel free to open an [issue](https://github.com/scikit-plots/scikit-plots/issues/new/choose) about it.\n</div>"
   ]
  },
  {
   "cell_type": "code",
   "execution_count": null,
   "metadata": {
    "collapsed": false
   },
   "outputs": [],
   "source": [
    "# JupyterLite-specific code"
   ]
  },
  {
   "cell_type": "markdown",
   "metadata": {},
   "source": [
    "\n# plot_elbow with examples\n\nAn example showing the :py:func:`~scikitplot.api.estimators.plot_elbow` function\nused by a scikit-learn clusterer.\n"
   ]
  },
  {
   "cell_type": "code",
   "execution_count": null,
   "metadata": {
    "collapsed": false
   },
   "outputs": [],
   "source": [
    "# Authors: The scikit-plots developers\n",
    "# SPDX-License-Identifier: BSD-3-Clause"
   ]
  },
  {
   "cell_type": "markdown",
   "metadata": {},
   "source": [
    "## Load the dataset\n\nWe will start by loading the ``iris`` dataset.\n\n"
   ]
  },
  {
   "cell_type": "code",
   "execution_count": null,
   "metadata": {
    "collapsed": false
   },
   "outputs": [],
   "source": [
    "from sklearn.datasets import (\n",
    "    load_iris as data_3_classes,\n",
    ")\n",
    "from sklearn.model_selection import train_test_split\n",
    "from sklearn.cluster import KMeans\n",
    "\n",
    "import numpy as np; np.random.seed(0)  # reproducibility\n",
    "# importing pylab or pyplot\n",
    "import matplotlib.pyplot as plt\n",
    "\n",
    "# Import scikit-plot\n",
    "import scikitplot as sp\n",
    "\n",
    "# Load the data\n",
    "X, y = data_3_classes(return_X_y=True, as_frame=False)\n",
    "X_train, X_val, y_train, y_val = train_test_split(X, y, test_size=0.5, random_state=0)"
   ]
  },
  {
   "cell_type": "markdown",
   "metadata": {},
   "source": [
    "## Model Training\n\nCreate an instance of the LogisticRegression\n\n"
   ]
  },
  {
   "cell_type": "code",
   "execution_count": null,
   "metadata": {
    "collapsed": false
   },
   "outputs": [],
   "source": [
    "model = KMeans(n_clusters=4, random_state=1)"
   ]
  },
  {
   "cell_type": "markdown",
   "metadata": {},
   "source": [
    "## Visualize the results\n\nPlot!\n\n"
   ]
  },
  {
   "cell_type": "code",
   "execution_count": null,
   "metadata": {
    "collapsed": false
   },
   "outputs": [],
   "source": [
    "ax = sp.estimators.plot_elbow(\n",
    "    model,\n",
    "    X_train,\n",
    "    cluster_ranges=range(1, 11)\n",
    ")\n",
    "\n",
    "# Adjust layout to make sure everything fits\n",
    "plt.tight_layout()\n",
    "\n",
    "# Save the plot with a filename based on the current script's name\n",
    "# sp.api._utils.save_plot()\n",
    "\n",
    "# Display the plot\n",
    "plt.show(block=True)"
   ]
  },
  {
   "cell_type": "markdown",
   "metadata": {},
   "source": [
    ".. tags::\n\n   model-type: clustering\n   model-type: k-means\n   model-workflow: model evaluation\n   plot-type: line\n   plot-type: WSS (within-cluster sum of squares)\n   plot-type: inertia (sum of squared distances)\n   level: beginner\n   purpose: showcase\n"
   ]
  }
 ],
 "metadata": {
  "kernelspec": {
   "display_name": "Python 3",
   "language": "python",
   "name": "python3"
  },
  "language_info": {
   "codemirror_mode": {
    "name": "ipython",
    "version": 3
   },
   "file_extension": ".py",
   "mimetype": "text/x-python",
   "name": "python",
   "nbconvert_exporter": "python",
   "pygments_lexer": "ipython3",
   "version": "3.11.6"
  }
 },
 "nbformat": 4,
 "nbformat_minor": 0
}
