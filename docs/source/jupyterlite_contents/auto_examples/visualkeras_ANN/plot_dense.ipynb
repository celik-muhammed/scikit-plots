{
 "cells": [
  {
   "cell_type": "markdown",
   "metadata": {},
   "source": [
    "<div class='alert alert-warning'>\n\n# JupyterLite warning\n\nRunning the scikit-plots examples in JupyterLite is experimental and you may encounter some unexpected behavior.\n\nThe main difference is that imports will take a lot longer than usual, for example the first `import scikitplot`can take roughly 10-20s.\n\nIf you notice problems, feel free to open an [issue](https://github.com/scikit-plots/scikit-plots/issues/new/choose) about it.\n</div>"
   ]
  },
  {
   "cell_type": "code",
   "execution_count": null,
   "metadata": {
    "collapsed": false
   },
   "outputs": [],
   "source": [
    "# JupyterLite-specific code"
   ]
  },
  {
   "cell_type": "markdown",
   "metadata": {},
   "source": [
    "\n# visualkeras Spam Dense example\n\nAn example showing the :py:func:`~scikitplot.visualkeras` function\nused by a :py:class:`~tensorflow.keras.Model` model.\n"
   ]
  },
  {
   "cell_type": "code",
   "execution_count": null,
   "metadata": {
    "collapsed": false
   },
   "outputs": [],
   "source": [
    "# Authors: The scikit-plots developers\n",
    "# SPDX-License-Identifier: BSD-3-Clause\n",
    "\n",
    "# Force garbage collection\n",
    "import gc; gc.collect()\n",
    "import tensorflow.python as tf_python\n",
    "\n",
    "# Clear the GPU memory cache\n",
    "tf_python.keras.backend.clear_session()\n",
    "\n",
    "model = tf_python.keras.models.Sequential()\n",
    "model.add(tf_python.keras.layers.InputLayer(input_shape=(100,)))\n",
    "\n",
    "# Add Dense layers\n",
    "model.add(tf_python.keras.layers.Dense(64, activation='relu'))  # input_shape=(100,)\n",
    "model.add(tf_python.keras.layers.Dense(32, activation='relu'))\n",
    "model.add(tf_python.keras.layers.Dense(1, activation='sigmoid'))\n",
    "\n",
    "# Compile the model\n",
    "model.compile(optimizer='rmsprop', loss='binary_crossentropy', metrics=['accuracy'])\n",
    "\n",
    "from scikitplot import visualkeras\n",
    "\n",
    "img_spam = visualkeras.layered_view(\n",
    "  model,\n",
    "  to_file='../result_images/spam_dense.png',\n",
    "  min_xy=10, min_z=10, scale_xy=10, scale_z=10,\n",
    "  one_dim_orientation='x',\n",
    ")\n",
    "try:\n",
    "    import matplotlib.pyplot as plt\n",
    "    plt.imshow(img_spam)\n",
    "    plt.axis('off')\n",
    "    plt.show()\n",
    "except:\n",
    "    pass"
   ]
  },
  {
   "cell_type": "markdown",
   "metadata": {},
   "source": [
    ".. tags::\n\n   model-type: classification\n   model-workflow: model building\n   plot-type: visualkeras\n   domain: neural network\n   level: beginner\n   purpose: showcase\n"
   ]
  }
 ],
 "metadata": {
  "kernelspec": {
   "display_name": "Python 3",
   "language": "python",
   "name": "python3"
  },
  "language_info": {
   "codemirror_mode": {
    "name": "ipython",
    "version": 3
   },
   "file_extension": ".py",
   "mimetype": "text/x-python",
   "name": "python",
   "nbconvert_exporter": "python",
   "pygments_lexer": "ipython3",
   "version": "3.11.6"
  }
 },
 "nbformat": 4,
 "nbformat_minor": 0
}
