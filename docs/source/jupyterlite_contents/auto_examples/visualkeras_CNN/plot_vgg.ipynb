{
 "cells": [
  {
   "cell_type": "markdown",
   "metadata": {},
   "source": [
    "<div class='alert alert-warning'>\n\n# JupyterLite warning\n\nRunning the scikit-plots examples in JupyterLite is experimental and you may encounter some unexpected behavior.\n\nThe main difference is that imports will take a lot longer than usual, for example the first `import scikitplot`can take roughly 10-20s.\n\nIf you notice problems, feel free to open an [issue](https://github.com/scikit-plots/scikit-plots/issues/new/choose) about it.\n</div>"
   ]
  },
  {
   "cell_type": "code",
   "execution_count": null,
   "metadata": {
    "collapsed": false
   },
   "outputs": [],
   "source": [
    "# JupyterLite-specific code"
   ]
  },
  {
   "cell_type": "markdown",
   "metadata": {},
   "source": [
    "\n# visualkeras custom VGG example\n\nAn example showing the :py:func:`~scikitplot.visualkeras` function\nused by a :py:class:`~tensorflow.keras.Model` model.\n"
   ]
  },
  {
   "cell_type": "code",
   "execution_count": null,
   "metadata": {
    "collapsed": false
   },
   "outputs": [],
   "source": [
    "# Authors: The scikit-plots developers\n",
    "# SPDX-License-Identifier: BSD-3-Clause\n",
    "\n",
    "# Force garbage collection\n",
    "import gc; gc.collect()\n",
    "import tensorflow as tf\n",
    "\n",
    "# Clear any session to reset the state of TensorFlow/Keras\n",
    "tf.keras.backend.clear_session()\n",
    "\n",
    "from scikitplot import visualkeras\n",
    "\n",
    "# model = tf.keras.applications.VGG16(\n",
    "#     include_top=True,\n",
    "#     weights=None,  # \"imagenet\" or 'path/'\n",
    "#     input_tensor=None,\n",
    "#     input_shape=None,\n",
    "#     pooling=None,\n",
    "#     classes=1000,\n",
    "#     classifier_activation=\"softmax\",\n",
    "#     name=\"vgg16\",\n",
    "# )\n",
    "# visualkeras.layered_view(\n",
    "#   model,\n",
    "#   legend=True,\n",
    "#   show_dimension=True,\n",
    "#   to_file='../result_images/vgg16.png',\n",
    "# )\n",
    "\n",
    "model = tf.keras.applications.VGG19(\n",
    "    include_top=True,\n",
    "    weights=None,  # \"imagenet\" or 'path/'\n",
    "    input_tensor=None,\n",
    "    input_shape=None,\n",
    "    pooling=None,\n",
    "    classes=1000,\n",
    "    classifier_activation=\"softmax\",\n",
    "    name=\"vgg19\",\n",
    ")\n",
    "img_vgg19 = visualkeras.layered_view(\n",
    "  model,\n",
    "  legend=True,\n",
    "  show_dimension=True,\n",
    "  to_file='../result_images/vgg19.png',\n",
    ")\n",
    "try:\n",
    "    import matplotlib.pyplot as plt\n",
    "    plt.imshow(img_vgg19)\n",
    "    plt.axis('off')\n",
    "    plt.show()\n",
    "except:\n",
    "    pass"
   ]
  },
  {
   "cell_type": "markdown",
   "metadata": {},
   "source": [
    ".. tags::\n\n   model-type: classification\n   model-workflow: model building\n   plot-type: visualkeras\n   domain: neural network\n   level: beginner\n   purpose: showcase\n"
   ]
  }
 ],
 "metadata": {
  "kernelspec": {
   "display_name": "Python 3",
   "language": "python",
   "name": "python3"
  },
  "language_info": {
   "codemirror_mode": {
    "name": "ipython",
    "version": 3
   },
   "file_extension": ".py",
   "mimetype": "text/x-python",
   "name": "python",
   "nbconvert_exporter": "python",
   "pygments_lexer": "ipython3",
   "version": "3.11.6"
  }
 },
 "nbformat": 4,
 "nbformat_minor": 0
}
