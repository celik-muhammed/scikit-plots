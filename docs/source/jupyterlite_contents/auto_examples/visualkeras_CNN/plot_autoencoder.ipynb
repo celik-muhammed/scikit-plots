{
  "cells": [
    {
      "cell_type": "markdown",
      "metadata": {},
      "source": [
        "<div class='alert alert-warning'>\n\n# JupyterLite warning\n\nRunning the scikit-plots examples in JupyterLite is experimental and you may encounter some unexpected behavior.\n\nThe main difference is that imports will take a lot longer than usual, for example the first `import scikitplot`can take roughly 10-20s.\n\nIf you notice problems, feel free to open an [issue](https://github.com/scikit-plots/scikit-plots/issues/new/choose) about it.\n</div>"
      ]
    },
    {
      "cell_type": "code",
      "execution_count": null,
      "metadata": {
        "collapsed": false
      },
      "outputs": [],
      "source": [
        "# JupyterLite-specific code\nimport matplotlib\nimport pandas"
      ]
    },
    {
      "cell_type": "markdown",
      "metadata": {},
      "source": [
        "\n# visualkeras autoencoder example\n\nAn example showing the :py:func:`~scikitplot.visualkeras` function\nused by a :py:class:`~tensorflow.keras.Model` model.\n"
      ]
    },
    {
      "cell_type": "code",
      "execution_count": null,
      "metadata": {
        "collapsed": false
      },
      "outputs": [],
      "source": [
        "# Authors: The scikit-plots developers\n# SPDX-License-Identifier: BSD-3-Clause\n\n# Force garbage collection\nimport gc\n\ngc.collect()\nimport tensorflow as tf\n\n# Clear any session to reset the state of TensorFlow/Keras\ntf.keras.backend.clear_session()\n\n# encoder Model\nencoder_input = tf.keras.Input(shape=(28, 28, 1), name=\"img\")\nx = tf.keras.layers.Conv2D(16, 3, activation=\"relu\")(encoder_input)\nx = tf.keras.layers.Conv2D(32, 3, activation=\"relu\")(x)\nx = tf.keras.layers.MaxPooling2D(3)(x)\nx = tf.keras.layers.Conv2D(32, 3, activation=\"relu\")(x)\nx = tf.keras.layers.Conv2D(16, 3, activation=\"relu\")(x)\nencoder_output = tf.keras.layers.GlobalMaxPooling2D()(x)\nencoder = tf.keras.Model(encoder_input, encoder_output, name=\"encoder\")\n\n# autoencoder Model\nx = tf.keras.layers.Reshape((4, 4, 1))(encoder_output)\nx = tf.keras.layers.Conv2DTranspose(16, 3, activation=\"relu\")(x)\nx = tf.keras.layers.Conv2DTranspose(32, 3, activation=\"relu\")(x)\nx = tf.keras.layers.UpSampling2D(3)(x)\nx = tf.keras.layers.Conv2DTranspose(16, 3, activation=\"relu\")(x)\ndecoder_output = tf.keras.layers.Conv2DTranspose(1, 3, activation=\"relu\")(x)\nautoencoder = tf.keras.Model(encoder_input, decoder_output, name=\"autoencoder\")\n\nfrom scikitplot import visualkeras\n\nimg_encoder = visualkeras.layered_view(encoder, to_file=\"../result_images/encoder.png\")\nimg_autoencoder = visualkeras.layered_view(autoencoder, to_file=\"../result_images/autoencoder.png\")\ntry:\n    import matplotlib.pyplot as plt\n\n    plt.imshow(img_encoder)\n    plt.axis(\"off\")\n    plt.show()\n    plt.imshow(img_autoencoder)\n    plt.axis(\"off\")\n    plt.show()\nexcept:\n    pass"
      ]
    },
    {
      "cell_type": "markdown",
      "metadata": {},
      "source": [
        ".. tags::\n\n   model-type: classification\n   model-workflow: model building\n   plot-type: visualkeras\n   domain: neural network\n   level: beginner\n   purpose: showcase\n\n"
      ]
    }
  ],
  "metadata": {
    "kernelspec": {
      "display_name": "Python 3",
      "language": "python",
      "name": "python3"
    },
    "language_info": {
      "codemirror_mode": {
        "name": "ipython",
        "version": 3
      },
      "file_extension": ".py",
      "mimetype": "text/x-python",
      "name": "python",
      "nbconvert_exporter": "python",
      "pygments_lexer": "ipython3",
      "version": "3.11.6"
    }
  },
  "nbformat": 4,
  "nbformat_minor": 0
}
