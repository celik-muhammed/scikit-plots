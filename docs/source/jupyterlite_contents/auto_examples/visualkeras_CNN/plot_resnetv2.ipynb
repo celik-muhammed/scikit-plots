{
  "cells": [
    {
      "cell_type": "markdown",
      "metadata": {},
      "source": [
        "<div class='alert alert-warning'>\n\n# JupyterLite warning\n\nRunning the scikit-plots examples in JupyterLite is experimental and you may encounter some unexpected behavior.\n\nThe main difference is that imports will take a lot longer than usual, for example the first `import scikitplot`can take roughly 10-20s.\n\nIf you notice problems, feel free to open an [issue](https://github.com/scikit-plots/scikit-plots/issues/new/choose) about it.\n</div>"
      ]
    },
    {
      "cell_type": "code",
      "execution_count": null,
      "metadata": {
        "collapsed": false
      },
      "outputs": [],
      "source": [
        "# JupyterLite-specific code\nimport matplotlib\nimport pandas"
      ]
    },
    {
      "cell_type": "markdown",
      "metadata": {},
      "source": [
        "\n# visualkeras ResNetV2 example\n\nAn example showing the :py:func:`~scikitplot.visualkeras` function\nused by a :py:class:`~tensorflow.keras.Model` model.\n"
      ]
    },
    {
      "cell_type": "code",
      "execution_count": null,
      "metadata": {
        "collapsed": false
      },
      "outputs": [],
      "source": [
        "# Authors: The scikit-plots developers\n# SPDX-License-Identifier: BSD-3-Clause\n\n# Force garbage collection\nimport gc; gc.collect()\nimport tensorflow as tf\n# Clear any session to reset the state of TensorFlow/Keras\ntf.keras.backend.clear_session()\n\nfrom scikitplot import visualkeras\n\nmodel = tf.keras.applications.ResNet50V2(\n    include_top=True,\n    weights=None,  # \"imagenet\" or 'path/'\n    input_tensor=None,\n    input_shape=None,\n    pooling=None,\n    classes=1000,\n    classifier_activation=\"softmax\",\n    name=\"resnet50v2\",\n)\nimg_resnet50v2 = visualkeras.layered_view(\n  model,\n  legend=True,\n  show_dimension=True,\n  to_file='../result_images/resnet50v2.png',\n)\ntry:\n    import matplotlib.pyplot as plt\n    plt.imshow(img_resnet50v2)\n    plt.axis('off')\n    plt.show()\nexcept:\n    pass"
      ]
    },
    {
      "cell_type": "markdown",
      "metadata": {},
      "source": [
        ".. tags::\n\n   model-type: classification\n   model-workflow: model building\n   plot-type: visualkeras\n   domain: neural network\n   level: beginner\n   purpose: showcase\n\n"
      ]
    },
    {
      "cell_type": "code",
      "execution_count": null,
      "metadata": {
        "collapsed": false
      },
      "outputs": [],
      "source": [
        "# model = tf.keras.applications.ResNet101V2(\n#     include_top=True,\n#     weights=None,  # \"imagenet\" or 'path/'\n#     input_tensor=None,\n#     input_shape=None,\n#     pooling=None,\n#     classes=1000,\n#     classifier_activation=\"softmax\",\n#     name=\"resnet101v2\",\n# )\n# visualkeras.layered_view(\n#   model,\n#   legend=True,\n#   show_dimension=True,\n#   to_file='../result_images/resnet101v2.png',\n# )\n\n# model = tf.keras.applications.ResNet152V2(\n#     include_top=True,\n#     weights=None,  # \"imagenet\" or 'path/'\n#     input_tensor=None,\n#     input_shape=None,\n#     pooling=None,\n#     classes=1000,\n#     classifier_activation=\"softmax\",\n#     name=\"resnet152v2\",\n# )\n# visualkeras.layered_view(\n#   model,\n#   legend=True,\n#   show_dimension=True,\n#   to_file='../result_images/resnet152v2.png',\n# )"
      ]
    }
  ],
  "metadata": {
    "kernelspec": {
      "display_name": "Python 3",
      "language": "python",
      "name": "python3"
    },
    "language_info": {
      "codemirror_mode": {
        "name": "ipython",
        "version": 3
      },
      "file_extension": ".py",
      "mimetype": "text/x-python",
      "name": "python",
      "nbconvert_exporter": "python",
      "pygments_lexer": "ipython3",
      "version": "3.11.6"
    }
  },
  "nbformat": 4,
  "nbformat_minor": 0
}
